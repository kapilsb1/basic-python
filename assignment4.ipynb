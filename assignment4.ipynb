{
 "cells": [
  {
   "cell_type": "code",
   "execution_count": 24,
   "id": "e13877e5",
   "metadata": {},
   "outputs": [
    {
     "name": "stdout",
     "output_type": "stream",
     "text": [
      "{'act': []}\n",
      "{'act': ['cat']} ['act']\n",
      "{'act': ['cat'], 'dgo': []}\n",
      "{'act': ['cat'], 'dgo': ['dog']} ['act', 'dgo']\n",
      "{'act': ['cat', 'tac'], 'dgo': ['dog']} ['act', 'dgo']\n",
      "{'act': ['cat', 'tac'], 'dgo': ['dog', 'god']} ['act', 'dgo']\n",
      "{'act': ['cat', 'tac', 'act'], 'dgo': ['dog', 'god']} ['act', 'dgo']\n",
      "['cat', 'tac', 'act', 'dog', 'god']\n"
     ]
    }
   ],
   "source": [
    "# Python Programming Questions(Dict, Function) \n",
    "# Write Python programs using Functions: \n",
    "# 1. Print anagrams together in python using a list and dictionary. \n",
    "# Input : arr = ['cat', 'dog', 'tac', 'god', 'act'] \n",
    "# Output : 'cat tac act dog god' \n",
    "def anagram(inp_lst):\n",
    "    d1 = {}\n",
    "    lst=[]\n",
    "    for i in inp_lst:\n",
    "        i_srt1 = sorted(i)\n",
    "        i_srt = ''.join(i_srt1) #most important line\n",
    "        if i_srt in lst:\n",
    "            d1[i_srt].append(i)\n",
    "        else:\n",
    "#             print(d1,i_srt)\n",
    "            d1[i_srt] = []\n",
    "            print(d1)\n",
    "            d1[i_srt].append(i)\n",
    "            lst.append(i_srt)\n",
    "        print(d1,lst)\n",
    "    lst1 = list(d1.values())\n",
    "    ls = sum(lst1, [])\n",
    "    print(ls)\n",
    "arr = ['cat', 'dog', 'tac', 'god', 'act'] \n",
    "anagram(arr)\n",
    "    "
   ]
  },
  {
   "cell_type": "code",
   "execution_count": 39,
   "id": "8995a595",
   "metadata": {},
   "outputs": [
    {
     "name": "stdout",
     "output_type": "stream",
     "text": [
      "['cars', 'bikes', 'arcs', 'steer']\n",
      "d2 {'acrs': ['cars']}\n",
      "d2 {'acrs': ['cars'], 'beiks': ['bikes']}\n",
      "d {'acrs': ['cars', 'arcs'], 'beiks': ['bikes']}\n",
      "d2 {'acrs': ['cars', 'arcs'], 'beiks': ['bikes'], 'eerst': ['steer']}\n",
      "0 2\n",
      "{'acrs': ['cars', 'arcs'], 'beiks': ['bikes'], 'eerst': ['steer']}\n"
     ]
    }
   ],
   "source": [
    "# 2. Python counter to find the size of the largest subset of anagram words. Input ::> \"qwe ewq rty ytr ytr ytr\" \n",
    "# Output ::> 4 \n",
    "# Input :: > \"cars bikes arcs steer\" \n",
    "# Output :: > 2 \n",
    "def cnt_anagrm(inp_str):\n",
    "    inp_lst = inp_str.split(\" \")\n",
    "    d1 = {}\n",
    "    ls = []\n",
    "    cnt = 0\n",
    "    print(inp_lst)\n",
    "    for wrd in inp_lst:\n",
    "        wrd1 = ''.join(sorted(wrd))\n",
    "        if wrd1 in ls:\n",
    "            d1[wrd1].append(wrd)\n",
    "            print('d',d1)\n",
    "        else:\n",
    "            d1[wrd1] = []\n",
    "            d1[wrd1].append(wrd)\n",
    "            ls.append(wrd1)\n",
    "            print('d2',d1)\n",
    "#         if len(d1.values()) > cnt:\n",
    "#             cnt = len(d1.values())\n",
    "    cnt2 = [cnt if len(j)<cnt else len(j) for i,j in d1.items()]\n",
    "    print(cnt,max(cnt2))\n",
    "\n",
    "    print(d1)\n",
    "Input = \"cars bikes arcs steer\"#\"qwe ewq rty ytr ytr ytr\"\n",
    "cnt_anagrm(Input)"
   ]
  },
  {
   "cell_type": "code",
   "execution_count": 48,
   "id": "22766586",
   "metadata": {},
   "outputs": [
    {
     "name": "stdout",
     "output_type": "stream",
     "text": [
      "[' ', 'd', 'x', 'y', 'y', 'z']\n",
      "['x', 'y', 'y', 'z', 'd']\n",
      "Counter({'y': 2, 'x': 1, 'z': 1, 'd': 1})\n"
     ]
    }
   ],
   "source": [
    "\n",
    "# 3. Python dictionary, set and counter to check if frequencies can become the same. Input : str = \"xyyz\" \n",
    "# Output : Yes \n",
    "# We can remove character 'y' from above string to make the frequency of each character same. \n",
    "# Input : str = \"xxxxyyzz\" \n",
    "# Output : No \n",
    "# It is not possible to make the frequency of each character the same just by removing at most one character from \n",
    "# the above string. \n",
    "from collections import Counter\n",
    "def chk_freq(inp_str):\n",
    "    str_len = len(inp_str)\n",
    "str1='xyyzd'\n",
    "str2 = [st for st in str1 if st != ' ']\n",
    "str3 =sorted(str1)\n",
    "print(str3)\n",
    "print(str2)\n",
    "lst = str1.split(' ')\n",
    "print(Counter(str2))\n",
    "    "
   ]
  },
  {
   "cell_type": "code",
   "execution_count": 15,
   "id": "67cf8a6f",
   "metadata": {},
   "outputs": [
    {
     "name": "stdout",
     "output_type": "stream",
     "text": [
      "Counter({'y': 2, 'x': 1, 'z': 1})\n",
      "[1, 2]\n",
      "Yes\n"
     ]
    }
   ],
   "source": [
    "# Function to Check if frequency of all characters \n",
    "# can become same by one removal \n",
    "from collections import Counter \n",
    "\n",
    "def allSame(input): \n",
    "    dict1=Counter(input)\n",
    "    print(dict1)\n",
    "    same = list(set(dict1.values()))\n",
    "    print(same)\n",
    "    if len(same) !=2:\n",
    "        print('No')\n",
    "    elif len (same)==2 and same[1]-same[0]>1:\n",
    "        print('No')\n",
    "    else:\n",
    "        print('Yes') \n",
    "\n",
    "# Driver program \n",
    "if __name__ == \"__main__\":\n",
    "    input = 'xyyz'\n",
    "    allSame(input) \n"
   ]
  },
  {
   "cell_type": "code",
   "execution_count": 24,
   "id": "f83e909a",
   "metadata": {},
   "outputs": [
    {
     "name": "stdout",
     "output_type": "stream",
     "text": [
      "[1, 4, 9, 16, 25, 36, 49, 64, 81, 100, 121, 144, 169, 196]\n",
      "6\n"
     ]
    }
   ],
   "source": [
    "# 4. Python program for number of elements with odd factors in a given range Input : n = 5, m = 100 \n",
    "# Output : 8 \n",
    "# The numbers with odd factors are 9, 16, 25, 36, 49, 64, 81 and 100 \n",
    "# Input : n = 8, m = 65 \n",
    "# Output : 6\n",
    "def sqr_cnt(mn_rng,mx_rng):\n",
    "    lst = [i*i  for i in range(1,15)]\n",
    "    print(lst)\n",
    "    lst1 = [i for i in lst if i> mn_rng and i <= mx_rng]\n",
    "    cnt = len(lst1)\n",
    "    print(cnt)\n",
    "sqr_cnt(8,65)"
   ]
  },
  {
   "cell_type": "code",
   "execution_count": 43,
   "id": "f5a1f2cc",
   "metadata": {},
   "outputs": [
    {
     "name": "stdout",
     "output_type": "stream",
     "text": [
      "20\n",
      "20\n"
     ]
    }
   ],
   "source": [
    "# 5. python program to find the minimum sum of factors of a number. Input : 12 \n",
    "# Output : 7 \n",
    "# Explanation: \n",
    "# Following are different ways to factorize 12 and sum of factors in different ways. 12 = 12 * 1 = 12 + 1 = 13 \n",
    "# 12 = 2 * 6 = 2 + 6 = 8 \n",
    "# 12 = 3 * 4 = 3 + 4 = 7 \n",
    "# 12 = 2 * 2 * 3 = 2 + 2 + 3 = 7 \n",
    "# Therefore minimum sum is 7\n",
    "def min_sm_of_factors(str1):\n",
    "    st = str1+1\n",
    "    a = [(i,str1//i) for i in range(1,st) if str1 % i==0]\n",
    "    sm = sum(a[0])\n",
    "    print(sm)\n",
    "    sm1 = [sm if sm<sum(a[i]) else sum(a[i])  for i in range(len(a))]\n",
    "    print(min(sm1))\n",
    "min_sm_of_factors(19)"
   ]
  },
  {
   "cell_type": "code",
   "execution_count": null,
   "id": "dfbc55b8",
   "metadata": {},
   "outputs": [],
   "source": []
  }
 ],
 "metadata": {
  "kernelspec": {
   "display_name": "Python 3 (ipykernel)",
   "language": "python",
   "name": "python3"
  },
  "language_info": {
   "codemirror_mode": {
    "name": "ipython",
    "version": 3
   },
   "file_extension": ".py",
   "mimetype": "text/x-python",
   "name": "python",
   "nbconvert_exporter": "python",
   "pygments_lexer": "ipython3",
   "version": "3.9.7"
  }
 },
 "nbformat": 4,
 "nbformat_minor": 5
}
